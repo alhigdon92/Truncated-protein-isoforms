{
 "cells": [
  {
   "cell_type": "code",
   "execution_count": 1,
   "metadata": {},
   "outputs": [
    {
     "data": {
      "text/plain": [
       "'package github: https://github.com/deeptools/pyBigWig'"
      ]
     },
     "execution_count": 1,
     "metadata": {},
     "output_type": "execute_result"
    }
   ],
   "source": [
    "import pyBigWig\n",
    "import numpy as np\n",
    "\"\"\"package github: https://github.com/deeptools/pyBigWig\"\"\""
   ]
  },
  {
   "cell_type": "code",
   "execution_count": 3,
   "metadata": {},
   "outputs": [],
   "source": [
    "def TSS_counter(bw_fwd,bw_rev,gffFile,outFile):\n",
    "\n",
    "    TSS_total = [0]*200\n",
    "    TSSfile = open(outFile,\"w+\")\n",
    "    gff = open(gffFile)\n",
    "\n",
    "    for line in gff:\n",
    "        cols = line.strip().split()\n",
    "        chrom, cds, start, stop, strand = cols[0], cols[2], int(cols[3]), int(cols[4]), cols[6]\n",
    "        gene_id = cols[8].split(\";\")[1].split(\"Parent=\")[1]\n",
    "        if cds == \"CDS\":\n",
    "            if strand == \"+\":\n",
    "                if start-200 > 0:\n",
    "                    UTR_start = start - 200\n",
    "                else:\n",
    "                    continue\n",
    "                TSS_list = [str(value) for value in bw_fwd.values(chrom,UTR_start,start+200)]\n",
    "                \n",
    "            else:\n",
    "                if stop + 200 < bw_rev.chroms()[chrom]:\n",
    "                    UTR_stop = stop + 200\n",
    "                else:\n",
    "                    continue\n",
    "                TSS_list = [str(abs(value)) for value in bw_rev.values(chrom,stop-200,UTR_stop)][::-1]\n",
    "            \n",
    "            TSSfile.write(\"\\t\".join([gene_id]+TSS_list))\n",
    "            TSSfile.write(\"\\n\")\n",
    "         \n",
    "    bw_fwd.close()\n",
    "    bw_rev.close()\n",
    "    gff.close()"
   ]
  },
  {
   "cell_type": "code",
   "execution_count": 4,
   "metadata": {},
   "outputs": [],
   "source": [
    "gff = \"/mnt/brarlab/andrea_higdon/20210111_truncation_peakcaller/TLseq_fulltimecourse/genome_files/SK1_NCSL00000000_SGD.gene.MvO.curated.mRNA.20190128.gff\"\n",
    "\n",
    "bw_0_fwd = pyBigWig.open(\"p0.MH5p0.TPM.forward.TSS.bw\")\n",
    "bw_0_rev = pyBigWig.open(\"p0.MH5p0.TPM.reverse.TSS.bw\")\n",
    "\n",
    "bw_2_fwd = pyBigWig.open(\"p2.MH5p2.TPM.forward.TSS.bw\")\n",
    "bw_2_rev = pyBigWig.open(\"p2.MH5p2.TPM.reverse.TSS.bw\")\n",
    "\n",
    "bw_3_fwd = pyBigWig.open(\"p3.MH5p3.TPM.forward.TSS.bw\")\n",
    "bw_3_rev = pyBigWig.open(\"p3.MH5p3.TPM.reverse.TSS.bw\")\n",
    "\n",
    "bw_4_fwd = pyBigWig.open(\"p4.MH5p4.TPM.forward.TSS.bw\")\n",
    "bw_4_rev = pyBigWig.open(\"p4.MH5p4.TPM.reverse.TSS.bw\")\n",
    "\n",
    "bw_5_fwd = pyBigWig.open(\"p5.MH5p5.TPM.forward.TSS.bw\")\n",
    "bw_5_rev = pyBigWig.open(\"p5.MH5p5.TPM.reverse.TSS.bw\")\n",
    "\n",
    "bw_6_fwd = pyBigWig.open(\"p6.MH5p6.TPM.forward.TSS.bw\")\n",
    "bw_6_rev = pyBigWig.open(\"p6.MH5p6.TPM.reverse.TSS.bw\")\n",
    "\n",
    "bw_7_fwd = pyBigWig.open(\"p7.MH5p7.TPM.forward.TSS.bw\")\n",
    "bw_7_rev = pyBigWig.open(\"p7.MH5p7.TPM.reverse.TSS.bw\")\n",
    "\n",
    "bw_8_fwd = pyBigWig.open(\"p8.MH5p8.TPM.forward.TSS.bw\")\n",
    "bw_8_rev = pyBigWig.open(\"p8.MH5p8.TPM.reverse.TSS.bw\")\n",
    "\n",
    "bw_9_fwd = pyBigWig.open(\"p9.MH5p9.TPM.forward.TSS.bw\")\n",
    "bw_9_rev = pyBigWig.open(\"p9.MH5p9.TPM.reverse.TSS.bw\")\n"
   ]
  },
  {
   "cell_type": "code",
   "execution_count": 5,
   "metadata": {},
   "outputs": [],
   "source": [
    "TSS_counter(bw_0_fwd,bw_0_rev,gff,\"TSScounts_annotated_0h.txt\")\n",
    "TSS_counter(bw_2_fwd,bw_2_rev,gff,\"TSScounts_annotated_2h.txt\")\n",
    "TSS_counter(bw_3_fwd,bw_3_rev,gff,\"TSScounts_annotated_3h.txt\")\n",
    "TSS_counter(bw_4_fwd,bw_4_rev,gff,\"TSScounts_annotated_4h.txt\")\n",
    "TSS_counter(bw_5_fwd,bw_5_rev,gff,\"TSScounts_annotated_5h.txt\")\n",
    "TSS_counter(bw_6_fwd,bw_6_rev,gff,\"TSScounts_annotated_6h.txt\")\n",
    "TSS_counter(bw_7_fwd,bw_7_rev,gff,\"TSScounts_annotated_7h.txt\")\n",
    "TSS_counter(bw_8_fwd,bw_8_rev,gff,\"TSScounts_annotated_8h.txt\")\n",
    "TSS_counter(bw_9_fwd,bw_9_rev,gff,\"TSScounts_annotated_9h.txt\")\n"
   ]
  },
  {
   "cell_type": "code",
   "execution_count": 23,
   "metadata": {},
   "outputs": [],
   "source": [
    "def TSS_counter_bed(bw_fwd,bw_rev,bedFile,outFile):\n",
    "\n",
    "    TSS_total = [0]*200\n",
    "    TSSfile = open(outFile,\"w+\")\n",
    "    bed = open(bedFile)\n",
    "\n",
    "    for line in bed:\n",
    "        cols = line.strip().split(\"\\t\")\n",
    "        if cols[0] != \"chrom\":\n",
    "            chrom, start, stop, strand = cols[0], int(cols[1]), int(cols[2]), cols[4]\n",
    "            gene_id = cols[3]\n",
    "            dist_from_annotated = int(cols[6])\n",
    "            \n",
    "            if strand == \"+\":\n",
    "                if start-200 > 0:\n",
    "                    UTR_start = start - 200\n",
    "                else:\n",
    "                    continue\n",
    "                TSS_list = [str(value) for value in bw_fwd.values(chrom,UTR_start,start+200)]\n",
    "                \n",
    "                masked_list = []\n",
    "                for index in range(len(TSS_list)):\n",
    "                    if index < 200-dist_from_annotated*3:\n",
    "                        masked_list.append(\"0\")\n",
    "                    else:\n",
    "                        masked_list.append(TSS_list[index])\n",
    "                \n",
    "            else:\n",
    "                if stop + 200 < bw_rev.chroms()[chrom]:\n",
    "                    UTR_stop = stop + 200\n",
    "                else:\n",
    "                    continue\n",
    "                TSS_list = [str(abs(value)) for value in bw_rev.values(chrom,stop-200,UTR_stop)][::-1]\n",
    "                \n",
    "                masked_list = []\n",
    "                for index in range(len(TSS_list)):\n",
    "                    if index < 200-dist_from_annotated*3:\n",
    "                        masked_list.append(\"0\")\n",
    "                    else:\n",
    "                        masked_list.append(TSS_list[index])\n",
    "            \n",
    "            TSSfile.write(\"\\t\".join([gene_id]+masked_list))\n",
    "            TSSfile.write(\"\\n\")\n",
    "         \n",
    "    bw_fwd.close()\n",
    "    bw_rev.close()\n",
    "    bed.close()"
   ]
  },
  {
   "cell_type": "code",
   "execution_count": 25,
   "metadata": {},
   "outputs": [],
   "source": [
    "bed = (\"/mnt/brarlab/andrea_higdon/20210201_LTMandCHX_relignedtoKeeneyLabGenome/20210305_empiricaldist_peakcaller_analysis/20210329_empiricaldist_peakcaller_truncations_p0015_dist5_peakmax11_nomain.csv\")\n",
    "\n",
    "TSS_counter_bed(bw_0_fwd,bw_0_rev,bed,\"TSScounts_empiricaldist_truncations_0h.txt\")\n",
    "TSS_counter_bed(bw_2_fwd,bw_2_rev,bed,\"TSScounts_empiricaldist_truncations_2h.txt\")\n",
    "TSS_counter_bed(bw_3_fwd,bw_3_rev,bed,\"TSScounts_empiricaldist_truncations_3h.txt\")\n",
    "TSS_counter_bed(bw_4_fwd,bw_4_rev,bed,\"TSScounts_empiricaldist_truncations_4h.txt\")\n",
    "TSS_counter_bed(bw_5_fwd,bw_5_rev,bed,\"TSScounts_empiricaldist_truncations_5h.txt\")\n",
    "TSS_counter_bed(bw_6_fwd,bw_6_rev,bed,\"TSScounts_empiricaldist_truncations_6h.txt\")\n",
    "TSS_counter_bed(bw_7_fwd,bw_7_rev,bed,\"TSScounts_empiricaldist_truncations_7h.txt\")\n",
    "TSS_counter_bed(bw_8_fwd,bw_8_rev,bed,\"TSScounts_empiricaldist_truncations_8h.txt\")\n",
    "TSS_counter_bed(bw_9_fwd,bw_9_rev,bed,\"TSScounts_empiricaldist_truncations_9h.txt\")"
   ]
  }
 ],
 "metadata": {
  "kernelspec": {
   "display_name": ".myenv",
   "language": "python",
   "name": ".myenv"
  },
  "language_info": {
   "codemirror_mode": {
    "name": "ipython",
    "version": 3
   },
   "file_extension": ".py",
   "mimetype": "text/x-python",
   "name": "python",
   "nbconvert_exporter": "python",
   "pygments_lexer": "ipython3",
   "version": "3.7.7"
  }
 },
 "nbformat": 4,
 "nbformat_minor": 4
}
