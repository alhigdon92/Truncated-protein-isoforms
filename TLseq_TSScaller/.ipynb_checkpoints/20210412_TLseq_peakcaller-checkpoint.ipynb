{
 "cells": [
  {
   "cell_type": "code",
   "execution_count": 21,
   "metadata": {},
   "outputs": [],
   "source": [
    "library(ggplot2)\n",
    "library(data.table)\n",
    "library(tidyverse)\n",
    "library(vroom)\n"
   ]
  },
  {
   "cell_type": "code",
   "execution_count": 2,
   "metadata": {},
   "outputs": [],
   "source": [
    "metagene_0h = fread(\"/mnt/brarlab/andrea_higdon/20210111_truncation_peakcaller/TLseq_fulltimecourse/Minghao_meiotic_timecourse/TSScounts_empiricaldist_truncations_0h.txt\",sep=\"\\t\",header=FALSE,fill=TRUE)\n",
    "metagene_2h = fread(\"/mnt/brarlab/andrea_higdon/20210111_truncation_peakcaller/TLseq_fulltimecourse/Minghao_meiotic_timecourse/TSScounts_empiricaldist_truncations_2h.txt\",sep=\"\\t\",header=FALSE,fill=TRUE)\n",
    "metagene_3h = fread(\"/mnt/brarlab/andrea_higdon/20210111_truncation_peakcaller/TLseq_fulltimecourse/Minghao_meiotic_timecourse/TSScounts_empiricaldist_truncations_3h.txt\",sep=\"\\t\",header=FALSE,fill=TRUE)\n",
    "metagene_4h = fread(\"/mnt/brarlab/andrea_higdon/20210111_truncation_peakcaller/TLseq_fulltimecourse/Minghao_meiotic_timecourse/TSScounts_empiricaldist_truncations_4h.txt\",sep=\"\\t\",header=FALSE,fill=TRUE)\n",
    "metagene_5h = fread(\"/mnt/brarlab/andrea_higdon/20210111_truncation_peakcaller/TLseq_fulltimecourse/Minghao_meiotic_timecourse/TSScounts_empiricaldist_truncations_5h.txt\",sep=\"\\t\",header=FALSE,fill=TRUE)\n",
    "metagene_6h = fread(\"/mnt/brarlab/andrea_higdon/20210111_truncation_peakcaller/TLseq_fulltimecourse/Minghao_meiotic_timecourse/TSScounts_empiricaldist_truncations_6h.txt\",sep=\"\\t\",header=FALSE,fill=TRUE)\n",
    "metagene_7h = fread(\"/mnt/brarlab/andrea_higdon/20210111_truncation_peakcaller/TLseq_fulltimecourse/Minghao_meiotic_timecourse/TSScounts_empiricaldist_truncations_7h.txt\",sep=\"\\t\",header=FALSE,fill=TRUE)\n",
    "metagene_8h = fread(\"/mnt/brarlab/andrea_higdon/20210111_truncation_peakcaller/TLseq_fulltimecourse/Minghao_meiotic_timecourse/TSScounts_empiricaldist_truncations_8h.txt\",sep=\"\\t\",header=FALSE,fill=TRUE)\n",
    "metagene_9h = fread(\"/mnt/brarlab/andrea_higdon/20210111_truncation_peakcaller/TLseq_fulltimecourse/Minghao_meiotic_timecourse/TSScounts_empiricaldist_truncations_9h.txt\",sep=\"\\t\",header=FALSE,fill=TRUE)\n"
   ]
  },
  {
   "cell_type": "code",
   "execution_count": 3,
   "metadata": {},
   "outputs": [],
   "source": [
    "metagene_format = function(df) {\n",
    "    df[is.na(df)] = 0\n",
    "    colnames(df) = (c(\"gene_id\",-200:199))\n",
    "    return(df)\n",
    "}"
   ]
  },
  {
   "cell_type": "code",
   "execution_count": 4,
   "metadata": {},
   "outputs": [],
   "source": [
    "# randomly sample 100 sites 10000x, test statistic is mean of top 10 positions\n",
    "\n",
    "\n",
    "find_pvalue = function(data) {\n",
    "    \n",
    "    data = metagene_format(data)\n",
    "    \n",
    "    new_df = tibble()\n",
    "    \n",
    "    for (row in 1:nrow(data)) {\n",
    "        gene_id = data[row,]$gene_id\n",
    "        gene_data = as.numeric(data[row,2:401]) + 0.01\n",
    "        upstream_sum = sum(gene_data[1:200])\n",
    "        downstream_sum = sum(gene_data[201:400])\n",
    "        ratio = upstream_sum / downstream_sum\n",
    "\n",
    "        sampled_ratio = replicate(10000, sum(sample(gene_data, 200, replace=TRUE) / sum(sample(gene_data, 200, replace=TRUE))))\n",
    "        variance = var(sampled_ratio)\n",
    "\n",
    "        pvalue = 1-ecdf(sampled_ratio)(ratio)\n",
    "        \n",
    "        calls = tibble(gene_id,pvalue,variance,upstream_sum, downstream_sum)\n",
    "        new_df = rbind(new_df, calls)\n",
    "\n",
    "    }\n",
    "    colnames(new_df) = c(\"gene_id\",\"pvalue\",\"variance\",\"upstream_sum\",\"downstream_sum\")\n",
    "    return(new_df)\n",
    "}\n",
    "\n",
    "\n"
   ]
  },
  {
   "cell_type": "code",
   "execution_count": 20,
   "metadata": {},
   "outputs": [
    {
     "data": {
      "text/html": [
       "0.605670103092783"
      ],
      "text/latex": [
       "0.605670103092783"
      ],
      "text/markdown": [
       "0.605670103092783"
      ],
      "text/plain": [
       "[1] 0.6056701"
      ]
     },
     "metadata": {},
     "output_type": "display_data"
    },
    {
     "data": {
      "text/html": [
       "<table>\n",
       "<thead><tr><th scope=col>gene_id</th><th scope=col>pvalue</th><th scope=col>variance</th><th scope=col>upstream_sum</th><th scope=col>downstream_sum</th><th scope=col>timepoint</th></tr></thead>\n",
       "<tbody>\n",
       "\t<tr><td>YAL044W-A_106aa_ATG</td><td>0.0698             </td><td>3.7884496          </td><td>29.037147          </td><td> 5.886329          </td><td>0h                 </td></tr>\n",
       "\t<tr><td>YBR290W_311aa_ATG  </td><td>0.0047             </td><td>3.2479858          </td><td>30.123648          </td><td> 2.752193          </td><td>0h                 </td></tr>\n",
       "\t<tr><td>YBL101C_1073aa_ATG </td><td>0.0120             </td><td>0.6968750          </td><td>47.549471          </td><td>11.485987          </td><td>0h                 </td></tr>\n",
       "\t<tr><td>YBL016W_66aa_ATG   </td><td>0.0408             </td><td>1.0938682          </td><td>19.718315          </td><td> 5.510232          </td><td>0h                 </td></tr>\n",
       "\t<tr><td>YBR223C_125aa_ATG  </td><td>0.0588             </td><td>0.1778717          </td><td> 5.384862          </td><td> 2.961135          </td><td>0h                 </td></tr>\n",
       "\t<tr><td>Unit452_39aa_ATG   </td><td>0.0083             </td><td>0.4853291          </td><td> 9.354772          </td><td> 2.585039          </td><td>0h                 </td></tr>\n",
       "</tbody>\n",
       "</table>\n"
      ],
      "text/latex": [
       "\\begin{tabular}{r|llllll}\n",
       " gene\\_id & pvalue & variance & upstream\\_sum & downstream\\_sum & timepoint\\\\\n",
       "\\hline\n",
       "\t YAL044W-A\\_106aa\\_ATG & 0.0698                  & 3.7884496               & 29.037147               &  5.886329               & 0h                     \\\\\n",
       "\t YBR290W\\_311aa\\_ATG   & 0.0047                  & 3.2479858               & 30.123648               &  2.752193               & 0h                     \\\\\n",
       "\t YBL101C\\_1073aa\\_ATG  & 0.0120                  & 0.6968750               & 47.549471               & 11.485987               & 0h                     \\\\\n",
       "\t YBL016W\\_66aa\\_ATG    & 0.0408                  & 1.0938682               & 19.718315               &  5.510232               & 0h                     \\\\\n",
       "\t YBR223C\\_125aa\\_ATG   & 0.0588                  & 0.1778717               &  5.384862               &  2.961135               & 0h                     \\\\\n",
       "\t Unit452\\_39aa\\_ATG    & 0.0083                  & 0.4853291               &  9.354772               &  2.585039               & 0h                     \\\\\n",
       "\\end{tabular}\n"
      ],
      "text/markdown": [
       "\n",
       "gene_id | pvalue | variance | upstream_sum | downstream_sum | timepoint | \n",
       "|---|---|---|---|---|---|\n",
       "| YAL044W-A_106aa_ATG | 0.0698              | 3.7884496           | 29.037147           |  5.886329           | 0h                  | \n",
       "| YBR290W_311aa_ATG   | 0.0047              | 3.2479858           | 30.123648           |  2.752193           | 0h                  | \n",
       "| YBL101C_1073aa_ATG  | 0.0120              | 0.6968750           | 47.549471           | 11.485987           | 0h                  | \n",
       "| YBL016W_66aa_ATG    | 0.0408              | 1.0938682           | 19.718315           |  5.510232           | 0h                  | \n",
       "| YBR223C_125aa_ATG   | 0.0588              | 0.1778717           |  5.384862           |  2.961135           | 0h                  | \n",
       "| Unit452_39aa_ATG    | 0.0083              | 0.4853291           |  9.354772           |  2.585039           | 0h                  | \n",
       "\n",
       "\n"
      ],
      "text/plain": [
       "  gene_id             pvalue variance  upstream_sum downstream_sum timepoint\n",
       "1 YAL044W-A_106aa_ATG 0.0698 3.7884496 29.037147     5.886329      0h       \n",
       "2 YBR290W_311aa_ATG   0.0047 3.2479858 30.123648     2.752193      0h       \n",
       "3 YBL101C_1073aa_ATG  0.0120 0.6968750 47.549471    11.485987      0h       \n",
       "4 YBL016W_66aa_ATG    0.0408 1.0938682 19.718315     5.510232      0h       \n",
       "5 YBR223C_125aa_ATG   0.0588 0.1778717  5.384862     2.961135      0h       \n",
       "6 Unit452_39aa_ATG    0.0083 0.4853291  9.354772     2.585039      0h       "
      ]
     },
     "metadata": {},
     "output_type": "display_data"
    }
   ],
   "source": [
    "filter_data = function(data) {\n",
    "    filtered_data = data %>% filter(pvalue <= 0.1 & variance >= 0.05) \n",
    "    return(filtered_data)\n",
    "}\n",
    "\n",
    "\n",
    "metagene_0h_pvalues$timepoint = \"0h\"\n",
    "metagene_2h_pvalues$timepoint = \"2h\"\n",
    "metagene_3h_pvalues$timepoint = \"3h\"\n",
    "metagene_4h_pvalues$timepoint = \"4h\"\n",
    "metagene_5h_pvalues$timepoint = \"5h\"\n",
    "metagene_6h_pvalues$timepoint = \"6h\"\n",
    "metagene_7h_pvalues$timepoint = \"7h\"\n",
    "metagene_8h_pvalues$timepoint = \"8h\"\n",
    "metagene_9h_pvalues$timepoint = \"9h\"\n",
    "\n",
    "\n",
    "all = rbind(metagene_0h_pvalues,metagene_2h_pvalues,metagene_3h_pvalues,metagene_4h_pvalues,metagene_5h_pvalues,\n",
    "            metagene_6h_pvalues,metagene_7h_pvalues,metagene_8h_pvalues,metagene_9h_pvalues)\n",
    "\n",
    "all_filtered = filter_data(all)\n",
    "nrow(all_filtered%>% distinct(gene_id))/nrow(all%>% distinct(gene_id))\n",
    "\n"
   ]
  },
  {
   "cell_type": "code",
   "execution_count": 23,
   "metadata": {},
   "outputs": [],
   "source": [
    "vroom_write(all,\"20210414_TSScalls_unfiltered.tsv\")\n",
    "vroom_write(all_filtered,\"20210414_TSScalls_filtered.tsv\")"
   ]
  }
 ],
 "metadata": {
  "kernelspec": {
   "display_name": "R",
   "language": "R",
   "name": "ir"
  },
  "language_info": {
   "codemirror_mode": "r",
   "file_extension": ".r",
   "mimetype": "text/x-r-source",
   "name": "R",
   "pygments_lexer": "r",
   "version": "3.4.4"
  }
 },
 "nbformat": 4,
 "nbformat_minor": 4
}
