{
 "cells": [
  {
   "cell_type": "code",
   "execution_count": 3,
   "metadata": {},
   "outputs": [],
   "source": [
    "library(vroom)\n",
    "library(tidyverse)\n",
    "library(data.table)"
   ]
  },
  {
   "cell_type": "code",
   "execution_count": 2,
   "metadata": {},
   "outputs": [
    {
     "name": "stderr",
     "output_type": "stream",
     "text": [
      "Rows: 6,219\n",
      "Columns: 13\n",
      "Delimiter: \"\\t\"\n",
      "chr [5]: X1, X4, X6, X11, X12\n",
      "dbl [7]: X2, X3, X5, X7, X8, X9, X10\n",
      "lgl [1]: X13\n",
      "\n",
      "Use `spec()` to retrieve the guessed column specification\n",
      "Pass a specification to the `col_types` argument to quiet this message\n",
      "Rows: 388\n",
      "Columns: 10\n",
      "Delimiter: \"\\t\"\n",
      "chr [4]: chrom, orfname, strand, tid\n",
      "dbl [6]: start, stop, score, orflength, dist_from_annotated, n\n",
      "\n",
      "Use `spec()` to retrieve the guessed column specification\n",
      "Pass a specification to the `col_types` argument to quiet this message\n"
     ]
    }
   ],
   "source": [
    "data = vroom(\"/mnt/brarlab/andrea_higdon/20210201_LTMandCHX_relignedtoKeeneyLabGenome/MvO_v1_annotation_formattedforpeakcaller.bed\",col_names=FALSE)\n",
    "truncation_info = vroom(\"/mnt/brarlab/andrea_higdon/20210201_LTMandCHX_relignedtoKeeneyLabGenome/20210305_empiricaldist_peakcaller_analysis/20210426_empiricaldist_peakcaller_truncations_p0015_dist5_peakmax11_nomain.csv\")\n"
   ]
  },
  {
   "cell_type": "code",
   "execution_count": 5,
   "metadata": {},
   "outputs": [
    {
     "name": "stderr",
     "output_type": "stream",
     "text": [
      "Rows: 130,387\n",
      "Columns: 16\n",
      "Delimiter: \"\\t\"\n",
      "chr [7]: chrom, orfname, score, tid, codon, orftype, timepoint\n",
      "dbl [9]: start, stop, strand, orflength, dist_from_annotated, 0, 1, 2, peak_sum\n",
      "\n",
      "Use `spec()` to retrieve the guessed column specification\n",
      "Pass a specification to the `col_types` argument to quiet this message\n"
     ]
    }
   ],
   "source": [
    "inframeATG = vroom(\"/mnt/brarlab/andrea_higdon/20210201_LTMandCHX_relignedtoKeeneyLabGenome/20210312_peaksums_ATGstarts_peaksumgreaterthanorequalto6.tsv.gz\")\n",
    "\n",
    "inframeATG_uncalled = anti_join(inframeATG,truncation_info,by=\"orfname\")\n",
    "\n",
    "inframeATG_uncalled_mini = inframeATG %>% distinct(orfname,tid,dist_from_annotated) %>% filter(dist_from_annotated>=5)"
   ]
  },
  {
   "cell_type": "code",
   "execution_count": 7,
   "metadata": {},
   "outputs": [
    {
     "name": "stderr",
     "output_type": "stream",
     "text": [
      "Warning message:\n",
      "“Unknown or uninitialised column: `orfname`.”Warning message:\n",
      "“Unknown or uninitialised column: `orfname`.”Warning message:\n",
      "“Unknown or uninitialised column: `orfname`.”Warning message:\n",
      "“Unknown or uninitialised column: `orfname`.”Warning message:\n",
      "“Unknown or uninitialised column: `orfname`.”Warning message:\n",
      "“Unknown or uninitialised column: `orfname`.”Warning message:\n",
      "“Unknown or uninitialised column: `orfname`.”Warning message:\n",
      "“Unknown or uninitialised column: `orfname`.”Warning message:\n",
      "“Unknown or uninitialised column: `orfname`.”Warning message:\n",
      "“Unknown or uninitialised column: `orfname`.”Warning message:\n",
      "“Unknown or uninitialised column: `orfname`.”Warning message:\n",
      "“Unknown or uninitialised column: `orfname`.”Warning message:\n",
      "“Unknown or uninitialised column: `orfname`.”Warning message:\n",
      "“Unknown or uninitialised column: `orfname`.”Warning message:\n",
      "“Unknown or uninitialised column: `orfname`.”Warning message:\n",
      "“Unknown or uninitialised column: `orfname`.”Warning message:\n",
      "“Unknown or uninitialised column: `orfname`.”Warning message:\n",
      "“Unknown or uninitialised column: `orfname`.”Warning message:\n",
      "“Unknown or uninitialised column: `orfname`.”Warning message:\n",
      "“Unknown or uninitialised column: `orfname`.”Warning message:\n",
      "“Unknown or uninitialised column: `orfname`.”Warning message:\n",
      "“Unknown or uninitialised column: `orfname`.”Warning message:\n",
      "“Unknown or uninitialised column: `orfname`.”Warning message:\n",
      "“Unknown or uninitialised column: `orfname`.”Warning message:\n",
      "“Unknown or uninitialised column: `orfname`.”Warning message:\n",
      "“Unknown or uninitialised column: `orfname`.”Warning message:\n",
      "“Unknown or uninitialised column: `orfname`.”Warning message:\n",
      "“Unknown or uninitialised column: `orfname`.”Warning message:\n",
      "“Unknown or uninitialised column: `orfname`.”Warning message:\n",
      "“Unknown or uninitialised column: `orfname`.”Warning message:\n",
      "“Unknown or uninitialised column: `orfname`.”Warning message:\n",
      "“Unknown or uninitialised column: `orfname`.”Warning message:\n",
      "“Unknown or uninitialised column: `orfname`.”Warning message:\n",
      "“Unknown or uninitialised column: `orfname`.”Warning message:\n",
      "“Unknown or uninitialised column: `orfname`.”Warning message:\n",
      "“Unknown or uninitialised column: `orfname`.”Warning message:\n",
      "“Unknown or uninitialised column: `orfname`.”Warning message:\n",
      "“Unknown or uninitialised column: `orfname`.”Warning message:\n",
      "“Unknown or uninitialised column: `orfname`.”Warning message:\n",
      "“Unknown or uninitialised column: `orfname`.”Warning message:\n",
      "“Unknown or uninitialised column: `orfname`.”Warning message:\n",
      "“Unknown or uninitialised column: `orfname`.”Warning message:\n",
      "“Unknown or uninitialised column: `orfname`.”Warning message:\n",
      "“Unknown or uninitialised column: `orfname`.”Warning message:\n",
      "“Unknown or uninitialised column: `orfname`.”Warning message:\n",
      "“Unknown or uninitialised column: `orfname`.”Warning message:\n",
      "“Unknown or uninitialised column: `orfname`.”Warning message:\n",
      "“Unknown or uninitialised column: `orfname`.”Warning message:\n",
      "“Unknown or uninitialised column: `orfname`.”Warning message:\n",
      "“Unknown or uninitialised column: `orfname`.”Warning message:\n",
      "“Unknown or uninitialised column: `orfname`.”Warning message:\n",
      "“Unknown or uninitialised column: `orfname`.”Warning message:\n",
      "“Unknown or uninitialised column: `orfname`.”Warning message:\n",
      "“Unknown or uninitialised column: `orfname`.”Warning message:\n",
      "“Unknown or uninitialised column: `orfname`.”Warning message:\n",
      "“Unknown or uninitialised column: `orfname`.”Warning message:\n",
      "“Unknown or uninitialised column: `orfname`.”Warning message:\n",
      "“Unknown or uninitialised column: `orfname`.”Warning message:\n",
      "“Unknown or uninitialised column: `orfname`.”Warning message:\n",
      "“Unknown or uninitialised column: `orfname`.”Warning message:\n",
      "“Unknown or uninitialised column: `orfname`.”Warning message:\n",
      "“Unknown or uninitialised column: `orfname`.”Warning message:\n",
      "“Unknown or uninitialised column: `orfname`.”Warning message:\n",
      "“Unknown or uninitialised column: `orfname`.”Warning message:\n",
      "“Unknown or uninitialised column: `orfname`.”Warning message:\n",
      "“Unknown or uninitialised column: `orfname`.”Warning message:\n",
      "“Unknown or uninitialised column: `orfname`.”Warning message:\n",
      "“Unknown or uninitialised column: `orfname`.”Warning message:\n",
      "“Unknown or uninitialised column: `orfname`.”Warning message:\n",
      "“Unknown or uninitialised column: `orfname`.”Warning message:\n",
      "“Unknown or uninitialised column: `orfname`.”Warning message:\n",
      "“Unknown or uninitialised column: `orfname`.”Warning message:\n",
      "“Unknown or uninitialised column: `orfname`.”Warning message:\n",
      "“Unknown or uninitialised column: `orfname`.”Warning message:\n",
      "“Unknown or uninitialised column: `orfname`.”Warning message:\n",
      "“Unknown or uninitialised column: `orfname`.”Warning message:\n",
      "“Unknown or uninitialised column: `orfname`.”Warning message:\n",
      "“Unknown or uninitialised column: `orfname`.”Warning message:\n",
      "“Unknown or uninitialised column: `orfname`.”Warning message:\n",
      "“Unknown or uninitialised column: `orfname`.”Warning message:\n",
      "“Unknown or uninitialised column: `orfname`.”Warning message:\n",
      "“Unknown or uninitialised column: `orfname`.”Warning message:\n",
      "“Unknown or uninitialised column: `orfname`.”Warning message:\n",
      "“Unknown or uninitialised column: `orfname`.”Warning message:\n",
      "“Unknown or uninitialised column: `orfname`.”Warning message:\n",
      "“Unknown or uninitialised column: `orfname`.”Warning message:\n",
      "“Unknown or uninitialised column: `orfname`.”Warning message:\n",
      "“Unknown or uninitialised column: `orfname`.”Warning message:\n",
      "“Unknown or uninitialised column: `orfname`.”Warning message:\n",
      "“Unknown or uninitialised column: `orfname`.”Warning message:\n",
      "“Unknown or uninitialised column: `orfname`.”Warning message:\n",
      "“Unknown or uninitialised column: `orfname`.”Warning message:\n",
      "“Unknown or uninitialised column: `orfname`.”Warning message:\n",
      "“Unknown or uninitialised column: `orfname`.”Warning message:\n",
      "“Unknown or uninitialised column: `orfname`.”Warning message:\n",
      "“Unknown or uninitialised column: `orfname`.”Warning message:\n",
      "“Unknown or uninitialised column: `orfname`.”Warning message:\n",
      "“Unknown or uninitialised column: `orfname`.”Warning message:\n",
      "“Unknown or uninitialised column: `orfname`.”Warning message:\n",
      "“Unknown or uninitialised column: `orfname`.”"
     ]
    }
   ],
   "source": [
    "\n",
    "for (i in 1:100) {\n",
    "    \n",
    "    sampled_inframeATGs = tibble()\n",
    "\n",
    "    for (row in 1:nrow(truncation_info)) {\n",
    "        length = truncation_info$dist_from_annotated[row]\n",
    "        sampled = sample_n(inframeATG_uncalled_mini %>% filter(dist_from_annotated <= length + 5 & dist_from_annotated >= length - 5),1)\n",
    "\n",
    "        while (sampled$orfname %in% sampled_inframeATGs$orfname) {\n",
    "            sampled = sample_n(inframeATG_uncalled_mini %>% filter(dist_from_annotated <= length + 5 & dist_from_annotated >= length - 5),1)\n",
    "        }\n",
    "\n",
    "        sampled_inframeATGs = bind_rows(sampled_inframeATGs,sampled)  \n",
    "    }\n",
    "    \n",
    "    filename = paste0(\"input_files/inframeATG_randomsample_matcheddistfromannotated_forlocalizationanalysis_sample\",i,\".txt\")\n",
    "    vroom_write(sampled_inframeATGs,filename,col_names=FALSE)\n",
    "}\n",
    "\n",
    "\n"
   ]
  },
  {
   "cell_type": "code",
   "execution_count": null,
   "metadata": {},
   "outputs": [],
   "source": []
  }
 ],
 "metadata": {
  "kernelspec": {
   "display_name": "R",
   "language": "R",
   "name": "ir"
  },
  "language_info": {
   "codemirror_mode": "r",
   "file_extension": ".r",
   "mimetype": "text/x-r-source",
   "name": "R",
   "pygments_lexer": "r",
   "version": "3.4.4"
  }
 },
 "nbformat": 4,
 "nbformat_minor": 4
}
